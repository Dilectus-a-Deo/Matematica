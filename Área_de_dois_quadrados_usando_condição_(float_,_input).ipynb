{
  "nbformat": 4,
  "nbformat_minor": 0,
  "metadata": {
    "colab": {
      "provenance": [],
      "authorship_tag": "ABX9TyPq8YvidYbJ3J1RVJs/rfTl",
      "include_colab_link": true
    },
    "kernelspec": {
      "name": "python3",
      "display_name": "Python 3"
    },
    "language_info": {
      "name": "python"
    }
  },
  "cells": [
    {
      "cell_type": "markdown",
      "metadata": {
        "id": "view-in-github",
        "colab_type": "text"
      },
      "source": [
        "<a href=\"https://colab.research.google.com/github/Dilectus-a-Deo/Matematica/blob/main/%C3%81rea_de_dois_quadrados_usando_condi%C3%A7%C3%A3o_(float_%2C_input).ipynb\" target=\"_parent\"><img src=\"https://colab.research.google.com/assets/colab-badge.svg\" alt=\"Open In Colab\"/></a>"
      ]
    },
    {
      "cell_type": "code",
      "execution_count": 5,
      "metadata": {
        "colab": {
          "base_uri": "https://localhost:8080/"
        },
        "id": "ROd5F-8mffha",
        "outputId": "e14b46a2-247d-4996-ca65-fc6684ecec74"
      },
      "outputs": [
        {
          "output_type": "stream",
          "name": "stdout",
          "text": [
            "Digite o lado do quadrado: 5\n",
            "Digite o lado do quadrado: 5\n",
            "o quadrado manteve a mesma área.\n",
            "o valor da área do quadrado foi: 50.00 m\n"
          ]
        }
      ],
      "source": [
        "#Inserindo variáveis\n",
        "\n",
        "Area_do_quadrado = float(input(\"Digite o lado do quadrado: \"))\n",
        "Lado_do_quadrado = float(input(\"Digite o lado do quadrado: \"))\n",
        "\n",
        "#Inserindo a expressão\n",
        "\n",
        "Area_do_quadrado = (Lado_do_quadrado ** 2) * 2\n",
        "\n",
        "#Inserindo condição\n",
        "\n",
        "if Area_do_quadrado < 40:\n",
        "  print(\"o quadrado foi reduzido.\")\n",
        "\n",
        "elif Area_do_quadrado >= 40 and Area_do_quadrado < 100:\n",
        "  print(\"o quadrado manteve a mesma área.\")\n",
        "\n",
        "else:\n",
        "  print(\"o quadrado aumentou de tamanho.\")\n",
        "\n",
        "#Imprimindo o valor da área do quadrado\n",
        "\n",
        "print(f\"o valor da área do quadrado foi: {Area_do_quadrado:.2f} m\")"
      ]
    }
  ]
}