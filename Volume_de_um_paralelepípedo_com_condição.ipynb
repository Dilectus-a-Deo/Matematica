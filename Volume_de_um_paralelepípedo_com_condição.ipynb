{
  "nbformat": 4,
  "nbformat_minor": 0,
  "metadata": {
    "colab": {
      "provenance": [],
      "authorship_tag": "ABX9TyM6aYZLrez90vlPTo+9j2ij",
      "include_colab_link": true
    },
    "kernelspec": {
      "name": "python3",
      "display_name": "Python 3"
    },
    "language_info": {
      "name": "python"
    }
  },
  "cells": [
    {
      "cell_type": "markdown",
      "metadata": {
        "id": "view-in-github",
        "colab_type": "text"
      },
      "source": [
        "<a href=\"https://colab.research.google.com/github/Dilectus-a-Deo/Matematica/blob/main/Volume_de_um_paralelep%C3%ADpedo_com_condi%C3%A7%C3%A3o.ipynb\" target=\"_parent\"><img src=\"https://colab.research.google.com/assets/colab-badge.svg\" alt=\"Open In Colab\"/></a>"
      ]
    },
    {
      "cell_type": "code",
      "execution_count": null,
      "metadata": {
        "colab": {
          "base_uri": "https://localhost:8080/"
        },
        "id": "9ymMSbVLsleU",
        "outputId": "e704011b-9336-4b92-8963-ffa63720b312"
      },
      "outputs": [
        {
          "output_type": "stream",
          "name": "stdout",
          "text": [
            "Digite o valor da altura : 10\n",
            "Digite o valor da largura: 50\n",
            "Digite o valor da profundidade: 10\n",
            "O volume do paralelepipedo sofreu um aumento siginificativo.\n",
            "O volume do paralelepipedo é:5000.00 litros\n"
          ]
        }
      ],
      "source": [
        "#Inserindo variáveis\n",
        "\n",
        "Altura_do_paralelepipedo = float(input(\"Digite o valor da altura : \"))\n",
        "Largura_do_paralelepipedo = float(input(\"Digite o valor da largura: \"))\n",
        "Profundidade_do_paralelepipedo = float(input(\"Digite o valor da profundidade: \"))\n",
        "\n",
        "#Definindo a expressão\n",
        "\n",
        "Volume_do_paralelepipedo = (Altura_do_paralelepipedo * Largura_do_paralelepipedo * Profundidade_do_paralelepipedo)\n",
        "\n",
        "#Fornecendo condição\n",
        "\n",
        "if Volume_do_paralelepipedo < 1000 :\n",
        "  print(\"O volume do paralelepipedo se manteve o mesmo.\")\n",
        "\n",
        "elif Volume_do_paralelepipedo >= 1000 and Volume_do_paralelepipedo < 2000 :\n",
        "  print(\"O volume do paralelepipedo é moderado.\")\n",
        "\n",
        "else:\n",
        "  print(\"O volume do paralelepipedo sofreu um aumento siginificativo.\")\n",
        "\n",
        "#imprimindo o volume do paralelepipedo\n",
        "\n",
        "print(f\"O volume do paralelepipedo é:{Volume_do_paralelepipedo:.2f} litros\")\n"
      ]
    }
  ]
}